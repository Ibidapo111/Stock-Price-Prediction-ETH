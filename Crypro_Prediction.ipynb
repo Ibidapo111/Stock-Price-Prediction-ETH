{
 "cells": [
  {
   "cell_type": "code",
   "execution_count": 1,
   "id": "473f1d87",
   "metadata": {},
   "outputs": [],
   "source": [
    "import numpy as np\n",
    "import pandas as pd\n",
    "import math\n",
    "import sklearn\n",
    "import seaborn as sns\n",
    "import sklearn.preprocessing\n",
    "import datetime\n",
    "import os\n",
    "import matplotlib.pyplot as plt\n",
    "import tensorflow as tf\n",
    "from tensorflow.keras import models, layers\n",
    "from tensorflow import keras\n",
    "import matplotlib.pyplot as plt\n",
    "from sklearn.preprocessing import MinMaxScaler"
   ]
  },
  {
   "cell_type": "code",
   "execution_count": null,
   "id": "66a7fc94",
   "metadata": {},
   "outputs": [],
   "source": []
  },
  {
   "cell_type": "code",
   "execution_count": 2,
   "id": "463883d3",
   "metadata": {},
   "outputs": [],
   "source": [
    "train_btc= pd.read_csv('BTC-USD.csv')\n",
    "test_btc = pd.read_csv('Test-BTC-USD.csv')\n",
    "val_btc = pd.read_csv('Val-BTC-USD.csv')"
   ]
  },
  {
   "cell_type": "code",
   "execution_count": 3,
   "id": "59b1a961",
   "metadata": {},
   "outputs": [],
   "source": [
    "train_eth= pd.read_csv('Train-ETH-USD.csv')\n",
    "test_eth = pd.read_csv('Test-ETH-USD.csv')\n",
    "val_eth = pd.read_csv('Val-ETH-USD.csv')"
   ]
  },
  {
   "cell_type": "code",
   "execution_count": 4,
   "id": "9cb14c7e",
   "metadata": {},
   "outputs": [
    {
     "data": {
      "text/html": [
       "<div>\n",
       "<style scoped>\n",
       "    .dataframe tbody tr th:only-of-type {\n",
       "        vertical-align: middle;\n",
       "    }\n",
       "\n",
       "    .dataframe tbody tr th {\n",
       "        vertical-align: top;\n",
       "    }\n",
       "\n",
       "    .dataframe thead th {\n",
       "        text-align: right;\n",
       "    }\n",
       "</style>\n",
       "<table border=\"1\" class=\"dataframe\">\n",
       "  <thead>\n",
       "    <tr style=\"text-align: right;\">\n",
       "      <th></th>\n",
       "      <th>Date</th>\n",
       "      <th>Open</th>\n",
       "      <th>High</th>\n",
       "      <th>Low</th>\n",
       "      <th>Close</th>\n",
       "      <th>Adj Close</th>\n",
       "      <th>Volume</th>\n",
       "    </tr>\n",
       "  </thead>\n",
       "  <tbody>\n",
       "    <tr>\n",
       "      <th>0</th>\n",
       "      <td>2021-11-22</td>\n",
       "      <td>58706.847656</td>\n",
       "      <td>59266.359375</td>\n",
       "      <td>55679.839844</td>\n",
       "      <td>56289.289063</td>\n",
       "      <td>56289.289063</td>\n",
       "      <td>35036121783</td>\n",
       "    </tr>\n",
       "    <tr>\n",
       "      <th>1</th>\n",
       "      <td>2021-11-23</td>\n",
       "      <td>56304.554688</td>\n",
       "      <td>57875.515625</td>\n",
       "      <td>55632.761719</td>\n",
       "      <td>57569.074219</td>\n",
       "      <td>57569.074219</td>\n",
       "      <td>37485803899</td>\n",
       "    </tr>\n",
       "    <tr>\n",
       "      <th>2</th>\n",
       "      <td>2021-11-24</td>\n",
       "      <td>57565.851563</td>\n",
       "      <td>57803.066406</td>\n",
       "      <td>55964.222656</td>\n",
       "      <td>56280.425781</td>\n",
       "      <td>56280.425781</td>\n",
       "      <td>36635566789</td>\n",
       "    </tr>\n",
       "    <tr>\n",
       "      <th>3</th>\n",
       "      <td>2021-11-25</td>\n",
       "      <td>57165.417969</td>\n",
       "      <td>59367.968750</td>\n",
       "      <td>57146.683594</td>\n",
       "      <td>57274.679688</td>\n",
       "      <td>57274.679688</td>\n",
       "      <td>34284016248</td>\n",
       "    </tr>\n",
       "    <tr>\n",
       "      <th>4</th>\n",
       "      <td>2021-11-26</td>\n",
       "      <td>58960.285156</td>\n",
       "      <td>59183.480469</td>\n",
       "      <td>53569.765625</td>\n",
       "      <td>53569.765625</td>\n",
       "      <td>53569.765625</td>\n",
       "      <td>41810748221</td>\n",
       "    </tr>\n",
       "  </tbody>\n",
       "</table>\n",
       "</div>"
      ],
      "text/plain": [
       "         Date          Open          High           Low         Close  \\\n",
       "0  2021-11-22  58706.847656  59266.359375  55679.839844  56289.289063   \n",
       "1  2021-11-23  56304.554688  57875.515625  55632.761719  57569.074219   \n",
       "2  2021-11-24  57565.851563  57803.066406  55964.222656  56280.425781   \n",
       "3  2021-11-25  57165.417969  59367.968750  57146.683594  57274.679688   \n",
       "4  2021-11-26  58960.285156  59183.480469  53569.765625  53569.765625   \n",
       "\n",
       "      Adj Close       Volume  \n",
       "0  56289.289063  35036121783  \n",
       "1  57569.074219  37485803899  \n",
       "2  56280.425781  36635566789  \n",
       "3  57274.679688  34284016248  \n",
       "4  53569.765625  41810748221  "
      ]
     },
     "execution_count": 4,
     "metadata": {},
     "output_type": "execute_result"
    }
   ],
   "source": [
    "train_btc.head()"
   ]
  },
  {
   "cell_type": "code",
   "execution_count": 5,
   "id": "7b7672fb",
   "metadata": {},
   "outputs": [
    {
     "data": {
      "text/plain": [
       "239"
      ]
     },
     "execution_count": 5,
     "metadata": {},
     "output_type": "execute_result"
    }
   ],
   "source": [
    "len(test_btc)"
   ]
  },
  {
   "cell_type": "code",
   "execution_count": null,
   "id": "b91fbf5d",
   "metadata": {},
   "outputs": [],
   "source": []
  },
  {
   "cell_type": "code",
   "execution_count": null,
   "id": "7812e651",
   "metadata": {},
   "outputs": [],
   "source": []
  },
  {
   "cell_type": "code",
   "execution_count": 8,
   "id": "696a7051",
   "metadata": {},
   "outputs": [],
   "source": [
    "merged_data = pd.merge(train_btc, train_eth, on='Date', how='inner')\n",
    "merged_data.rename(columns={'Close_x': 'BTC', 'Close_y': 'ETH'}, inplace=True)"
   ]
  },
  {
   "cell_type": "code",
   "execution_count": 9,
   "id": "0a2ba68e",
   "metadata": {},
   "outputs": [
    {
     "data": {
      "text/html": [
       "<div>\n",
       "<style scoped>\n",
       "    .dataframe tbody tr th:only-of-type {\n",
       "        vertical-align: middle;\n",
       "    }\n",
       "\n",
       "    .dataframe tbody tr th {\n",
       "        vertical-align: top;\n",
       "    }\n",
       "\n",
       "    .dataframe thead th {\n",
       "        text-align: right;\n",
       "    }\n",
       "</style>\n",
       "<table border=\"1\" class=\"dataframe\">\n",
       "  <thead>\n",
       "    <tr style=\"text-align: right;\">\n",
       "      <th></th>\n",
       "      <th>Date</th>\n",
       "      <th>Open_x</th>\n",
       "      <th>High_x</th>\n",
       "      <th>Low_x</th>\n",
       "      <th>BTC</th>\n",
       "      <th>Adj Close_x</th>\n",
       "      <th>Volume_x</th>\n",
       "      <th>Open_y</th>\n",
       "      <th>High_y</th>\n",
       "      <th>Low_y</th>\n",
       "      <th>ETH</th>\n",
       "      <th>Adj Close_y</th>\n",
       "      <th>Volume_y</th>\n",
       "    </tr>\n",
       "  </thead>\n",
       "  <tbody>\n",
       "    <tr>\n",
       "      <th>0</th>\n",
       "      <td>2021-11-22</td>\n",
       "      <td>58706.847656</td>\n",
       "      <td>59266.359375</td>\n",
       "      <td>55679.839844</td>\n",
       "      <td>56289.289063</td>\n",
       "      <td>56289.289063</td>\n",
       "      <td>35036121783</td>\n",
       "      <td>4266.509277</td>\n",
       "      <td>4302.022949</td>\n",
       "      <td>4033.572266</td>\n",
       "      <td>4088.457764</td>\n",
       "      <td>4088.457764</td>\n",
       "      <td>19752218877</td>\n",
       "    </tr>\n",
       "    <tr>\n",
       "      <th>1</th>\n",
       "      <td>2021-11-23</td>\n",
       "      <td>56304.554688</td>\n",
       "      <td>57875.515625</td>\n",
       "      <td>55632.761719</td>\n",
       "      <td>57569.074219</td>\n",
       "      <td>57569.074219</td>\n",
       "      <td>37485803899</td>\n",
       "      <td>4089.680420</td>\n",
       "      <td>4385.483398</td>\n",
       "      <td>4069.766602</td>\n",
       "      <td>4340.763672</td>\n",
       "      <td>4340.763672</td>\n",
       "      <td>22133497059</td>\n",
       "    </tr>\n",
       "    <tr>\n",
       "      <th>2</th>\n",
       "      <td>2021-11-24</td>\n",
       "      <td>57565.851563</td>\n",
       "      <td>57803.066406</td>\n",
       "      <td>55964.222656</td>\n",
       "      <td>56280.425781</td>\n",
       "      <td>56280.425781</td>\n",
       "      <td>36635566789</td>\n",
       "      <td>4340.036133</td>\n",
       "      <td>4376.875977</td>\n",
       "      <td>4176.183594</td>\n",
       "      <td>4239.981445</td>\n",
       "      <td>4239.981445</td>\n",
       "      <td>21838037128</td>\n",
       "    </tr>\n",
       "    <tr>\n",
       "      <th>3</th>\n",
       "      <td>2021-11-25</td>\n",
       "      <td>57165.417969</td>\n",
       "      <td>59367.968750</td>\n",
       "      <td>57146.683594</td>\n",
       "      <td>57274.679688</td>\n",
       "      <td>57274.679688</td>\n",
       "      <td>34284016248</td>\n",
       "      <td>4271.394531</td>\n",
       "      <td>4550.518066</td>\n",
       "      <td>4249.774414</td>\n",
       "      <td>4274.743164</td>\n",
       "      <td>4274.743164</td>\n",
       "      <td>18705358318</td>\n",
       "    </tr>\n",
       "    <tr>\n",
       "      <th>4</th>\n",
       "      <td>2021-11-26</td>\n",
       "      <td>58960.285156</td>\n",
       "      <td>59183.480469</td>\n",
       "      <td>53569.765625</td>\n",
       "      <td>53569.765625</td>\n",
       "      <td>53569.765625</td>\n",
       "      <td>41810748221</td>\n",
       "      <td>4522.208984</td>\n",
       "      <td>4550.842285</td>\n",
       "      <td>3933.506592</td>\n",
       "      <td>4030.908936</td>\n",
       "      <td>4030.908936</td>\n",
       "      <td>26281795488</td>\n",
       "    </tr>\n",
       "  </tbody>\n",
       "</table>\n",
       "</div>"
      ],
      "text/plain": [
       "         Date        Open_x        High_x         Low_x           BTC  \\\n",
       "0  2021-11-22  58706.847656  59266.359375  55679.839844  56289.289063   \n",
       "1  2021-11-23  56304.554688  57875.515625  55632.761719  57569.074219   \n",
       "2  2021-11-24  57565.851563  57803.066406  55964.222656  56280.425781   \n",
       "3  2021-11-25  57165.417969  59367.968750  57146.683594  57274.679688   \n",
       "4  2021-11-26  58960.285156  59183.480469  53569.765625  53569.765625   \n",
       "\n",
       "    Adj Close_x     Volume_x       Open_y       High_y        Low_y  \\\n",
       "0  56289.289063  35036121783  4266.509277  4302.022949  4033.572266   \n",
       "1  57569.074219  37485803899  4089.680420  4385.483398  4069.766602   \n",
       "2  56280.425781  36635566789  4340.036133  4376.875977  4176.183594   \n",
       "3  57274.679688  34284016248  4271.394531  4550.518066  4249.774414   \n",
       "4  53569.765625  41810748221  4522.208984  4550.842285  3933.506592   \n",
       "\n",
       "           ETH  Adj Close_y     Volume_y  \n",
       "0  4088.457764  4088.457764  19752218877  \n",
       "1  4340.763672  4340.763672  22133497059  \n",
       "2  4239.981445  4239.981445  21838037128  \n",
       "3  4274.743164  4274.743164  18705358318  \n",
       "4  4030.908936  4030.908936  26281795488  "
      ]
     },
     "execution_count": 9,
     "metadata": {},
     "output_type": "execute_result"
    }
   ],
   "source": [
    "merged_data.head()"
   ]
  },
  {
   "cell_type": "code",
   "execution_count": null,
   "id": "41a937d0",
   "metadata": {},
   "outputs": [],
   "source": [
    "#train_eth.head()"
   ]
  },
  {
   "cell_type": "code",
   "execution_count": 10,
   "id": "86c40371",
   "metadata": {},
   "outputs": [],
   "source": [
    "correlation_matrix = merged_data[['BTC', 'ETH']].corr()"
   ]
  },
  {
   "cell_type": "code",
   "execution_count": 11,
   "id": "b3739161",
   "metadata": {},
   "outputs": [
    {
     "data": {
      "image/png": "[encoded data removed]",
      "text/plain": [
       "<Figure size 576x432 with 2 Axes>"
      ]
     },
     "metadata": {
      "needs_background": "light"
     },
     "output_type": "display_data"
    }
   ],
   "source": [
    "plt.figure(figsize=(8, 6))\n",
    "sns.heatmap(correlation_matrix, annot=True)\n",
    "plt.title('Correlation Heatmap: ETH vs BTC')\n",
    "plt.show()"
   ]
  },
  {
   "cell_type": "code",
   "execution_count": null,
   "id": "35f643a4",
   "metadata": {},
   "outputs": [],
   "source": [
    "\"\"\"\n",
    "plt.figure(figsize=(20, 10))\n",
    "sns.heatmap(train_btc.corr(), train_eth, annot=True)\n",
    "\"\"\""
   ]
  },
  {
   "cell_type": "code",
   "execution_count": null,
   "id": "d1e0e866",
   "metadata": {},
   "outputs": [],
   "source": [
    "\"\"\"\n",
    "Binance=Binance_data.drop(['quote_asset_volume','number_of_trades','taker_buy_base_asset_volume',\n",
    "               'taker_buy_quote_asset_volume'], axis=1)\n",
    "\"\"\""
   ]
  },
  {
   "cell_type": "code",
   "execution_count": 15,
   "id": "1d26488a",
   "metadata": {},
   "outputs": [
    {
     "data": {
      "image/png": "[encoded data removed]",
      "text/plain": [
       "<Figure size 1152x576 with 1 Axes>"
      ]
     },
     "metadata": {
      "needs_background": "light"
     },
     "output_type": "display_data"
    }
   ],
   "source": [
    "plt.figure(figsize=(16,8))\n",
    "plt.title('Close Price', fontsize=24)\n",
    "plt.plot(train_btc['Close'])\n",
    "plt.xlabel('Date', fontsize=18)\n",
    "plt.ylabel('USD', fontsize=18)\n",
    "plt.show()"
   ]
  },
  {
   "cell_type": "code",
   "execution_count": null,
   "id": "5a2db5ef",
   "metadata": {},
   "outputs": [],
   "source": [
    "#legend_handles = [train_btc,train_eth]"
   ]
  },
  {
   "cell_type": "code",
   "execution_count": 13,
   "id": "24e56b6c",
   "metadata": {},
   "outputs": [
    {
     "data": {
      "text/plain": [
       "<matplotlib.legend.Legend at 0x7f5e3984eb00>"
      ]
     },
     "execution_count": 13,
     "metadata": {},
     "output_type": "execute_result"
    },
    {
     "data": {
      "image/png": "[encoded data removed]",
      "text/plain": [
       "<Figure size 720x432 with 1 Axes>"
      ]
     },
     "metadata": {
      "needs_background": "light"
     },
     "output_type": "display_data"
    }
   ],
   "source": [
    "train_btc_close = train_btc['Close']\n",
    "train_eth_close = train_eth['Close']\n",
    "\n",
    "plt.figure(figsize=(10, 6))\n",
    "plt.plot(train_btc['Date'], train_btc_close, label='ETH Price')\n",
    "plt.plot(train_eth['Date'], train_eth_close, label='BTC Price')\n",
    "\n",
    "plt.xlabel('Date')\n",
    "plt.ylabel('Price (USD)')\n",
    "plt.title('Close Price of ETH and BTC')\n",
    "plt.legend()"
   ]
  },
  {
   "cell_type": "code",
   "execution_count": null,
   "id": "3205e411",
   "metadata": {},
   "outputs": [],
   "source": []
  },
  {
   "cell_type": "code",
   "execution_count": null,
   "id": "a796c0dc",
   "metadata": {},
   "outputs": [],
   "source": [
    "Binance.head()"
   ]
  },
  {
   "cell_type": "code",
   "execution_count": null,
   "id": "d6a9c5ea",
   "metadata": {},
   "outputs": [],
   "source": []
  },
  {
   "cell_type": "code",
   "execution_count": null,
   "id": "e476a270",
   "metadata": {},
   "outputs": [],
   "source": []
  },
  {
   "cell_type": "code",
   "execution_count": null,
   "id": "4f55e40a",
   "metadata": {},
   "outputs": [],
   "source": []
  },
  {
   "cell_type": "code",
   "execution_count": null,
   "id": "dc8a7763",
   "metadata": {},
   "outputs": [],
   "source": [
    "data = Binance.iloc[:,1:2].values\n",
    "#Binance_training=Dataset_train.iloc[:,1:2].values\n",
    "#dataset = data.values\n",
    "training_data_len = math.ceil(len(data) * .8)\n",
    "training_data_len"
   ]
  },
  {
   "cell_type": "code",
   "execution_count": null,
   "id": "60fd2570",
   "metadata": {},
   "outputs": [],
   "source": []
  },
  {
   "cell_type": "code",
   "execution_count": null,
   "id": "a138daae",
   "metadata": {},
   "outputs": [],
   "source": [
    "\"\"\"\n",
    "from sklearn.model_selection import train_test_split\n",
    "Dataset_train, Dataset_test = train_test_split(Binance, test_size=0.2, random_state=42)\n",
    "\"\"\""
   ]
  },
  {
   "cell_type": "code",
   "execution_count": null,
   "id": "1068b84c",
   "metadata": {},
   "outputs": [],
   "source": [
    "#Dataset_train.head(n=10)"
   ]
  },
  {
   "cell_type": "code",
   "execution_count": null,
   "id": "0ae6b78e",
   "metadata": {},
   "outputs": [],
   "source": []
  },
  {
   "cell_type": "code",
   "execution_count": null,
   "id": "fc4c8ca0",
   "metadata": {},
   "outputs": [],
   "source": [
    "\"\"\"\n",
    "Binance_training=Dataset_train.iloc[:,1:2].values\n",
    "\"\"\""
   ]
  },
  {
   "cell_type": "code",
   "execution_count": null,
   "id": "24837d2f",
   "metadata": {},
   "outputs": [],
   "source": [
    "from sklearn.preprocessing import MinMaxScaler\n",
    "sc=MinMaxScaler(feature_range=(0,1))\n",
    "Binance_training_scaled=sc.fit_transform(data)"
   ]
  },
  {
   "cell_type": "code",
   "execution_count": null,
   "id": "eb64bdb0",
   "metadata": {},
   "outputs": [],
   "source": [
    "Binance_training_scaled"
   ]
  },
  {
   "cell_type": "code",
   "execution_count": null,
   "id": "7fb69989",
   "metadata": {},
   "outputs": [],
   "source": [
    "training_set = Binance_training_scaled[0:training_data_len, :]\n",
    "x_train = []\n",
    "y_train = []"
   ]
  },
  {
   "cell_type": "code",
   "execution_count": null,
   "id": "91095858",
   "metadata": {},
   "outputs": [],
   "source": [
    "#len(Binance_training)"
   ]
  },
  {
   "cell_type": "code",
   "execution_count": null,
   "id": "40290e13",
   "metadata": {},
   "outputs": [],
   "source": [
    "len(training_set)"
   ]
  },
  {
   "cell_type": "code",
   "execution_count": null,
   "id": "24887aaf",
   "metadata": {},
   "outputs": [],
   "source": [
    "for i in range(100, 796147):\n",
    "    x_train.append(Binance_training_scaled[i-100:i, 0])\n",
    "    y_train.append(Binance_training_scaled[i, 0])\n",
    "x_train,y_train=np.array(x_train), np.array(y_train)"
   ]
  },
  {
   "cell_type": "code",
   "execution_count": null,
   "id": "021847b1",
   "metadata": {},
   "outputs": [],
   "source": [
    "len(x_train)"
   ]
  },
  {
   "cell_type": "code",
   "execution_count": null,
   "id": "500dff16",
   "metadata": {},
   "outputs": [],
   "source": [
    "x_train.shape"
   ]
  },
  {
   "cell_type": "code",
   "execution_count": null,
   "id": "e9cc9f83",
   "metadata": {},
   "outputs": [],
   "source": [
    "x_train = np.reshape(x_train, (x_train.shape[0],x_train.shape[1], 1))"
   ]
  },
  {
   "cell_type": "code",
   "execution_count": null,
   "id": "5b42e4b0",
   "metadata": {},
   "outputs": [],
   "source": [
    "x_train.shape"
   ]
  },
  {
   "cell_type": "code",
   "execution_count": null,
   "id": "efe0fc93",
   "metadata": {},
   "outputs": [],
   "source": [
    "from tensorflow.keras import models, layers, Sequential"
   ]
  },
  {
   "cell_type": "code",
   "execution_count": null,
   "id": "167b6f24",
   "metadata": {},
   "outputs": [],
   "source": [
    "Reg = Sequential()\n",
    "Reg.add(layers.LSTM(50, return_sequences=True, input_shape= (x_train.shape[1], 1)))\n",
    "Reg.add(layers.Dropout(0.2))\n",
    "Reg.add(layers.LSTM(50, return_sequences=True))\n",
    "Reg.add(layers.Dropout(0.2))\n",
    "Reg.add(layers.LSTM(50, return_sequences=True))\n",
    "Reg.add(layers.Dropout(0.2))\n",
    "Reg.add(layers.LSTM(50))\n",
    "Reg.add(layers.Dropout(0.2))\n",
    "Reg.add(layers.Dense(1))"
   ]
  },
  {
   "cell_type": "code",
   "execution_count": null,
   "id": "ed2001c5",
   "metadata": {},
   "outputs": [],
   "source": [
    "Reg.compile(optimizer='adam',loss='mean_squared_error')"
   ]
  },
  {
   "cell_type": "code",
   "execution_count": null,
   "id": "eb4edf3c",
   "metadata": {},
   "outputs": [],
   "source": [
    "callback = tf.keras.callbacks.EarlyStopping(monitor='loss', patience=2)\n",
    "history = Reg.fit(x_train, y_train, batch_size=32, epochs=10)"
   ]
  }
 ],
 "metadata": {
  "kernelspec": {
   "display_name": "Python 3 (ipykernel)",
   "language": "python",
   "name": "python3"
  },
  "language_info": {
   "codemirror_mode": {
    "name": "ipython",
    "version": 3
   },
   "file_extension": ".py",
   "mimetype": "text/x-python",
   "name": "python",
   "nbconvert_exporter": "python",
   "pygments_lexer": "ipython3",
   "version": "3.8.0"
  }
 },
 "nbformat": 4,
 "nbformat_minor": 5
}
